{
  "nbformat": 4,
  "nbformat_minor": 0,
  "metadata": {
    "colab": {
      "provenance": [],
      "authorship_tag": "ABX9TyPmRqqRCoBucIwM18dn1Qkz",
      "include_colab_link": true
    },
    "kernelspec": {
      "name": "python3",
      "display_name": "Python 3"
    },
    "language_info": {
      "name": "python"
    }
  },
  "cells": [
    {
      "cell_type": "markdown",
      "metadata": {
        "id": "view-in-github",
        "colab_type": "text"
      },
      "source": [
        "<a href=\"https://colab.research.google.com/github/raunakyadav92/fixmylaptop/blob/main/fixmylaptop.ipynb\" target=\"_parent\"><img src=\"https://colab.research.google.com/assets/colab-badge.svg\" alt=\"Open In Colab\"/></a>"
      ]
    },
    {
      "cell_type": "code",
      "execution_count": null,
      "metadata": {
        "id": "EVi5cRJk_GJU"
      },
      "outputs": [],
      "source": [
        "import random\n",
        "\n",
        "def fix_my_laptop():\n",
        "    print(\"\\n=== 💻 LearnLoop — Fix My Laptop Game ===\\n\")\n",
        "    issues = {\n",
        "        \"Laptop won’t turn on. What should you do?\": \"check charger\",\n",
        "        \"Screen is frozen. What’s your first move?\": \"restart\",\n",
        "        \"Wi-Fi not working. What should you check?\": \"router\",\n",
        "        \"Battery draining fast. What will you do?\": \"reduce brightness\",\n",
        "        \"Laptop overheating. What's the fix?\": \"clean fan\"\n",
        "    }\n",
        "\n",
        "    question, answer = random.choice(list(issues.items()))\n",
        "    print(f\"💻 Problem: {question}\")\n",
        "    user_answer = input(\"Your Fix: \").strip().lower()\n",
        "\n",
        "    if user_answer == answer:\n",
        "        print(\"✅ Correct! You fixed the laptop. You're a tech genius! 😎\")\n",
        "    else:\n",
        "        print(f\"❌ Wrong! The right answer was: '{answer.title()}'. The laptop exploded! 💥😂\")\n",
        "\n",
        "    print(\"\\nThanks for playing Fix My Laptop with LearnLoop!\")\n",
        "\n",
        "if __name__ == \"__main__\":\n",
        "    fix_my_laptop()\n"
      ]
    }
  ]
}